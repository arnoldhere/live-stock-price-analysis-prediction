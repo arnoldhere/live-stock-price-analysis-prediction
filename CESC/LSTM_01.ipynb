{
 "cells": [
  {
   "cell_type": "code",
   "execution_count": null,
   "id": "33542369",
   "metadata": {},
   "outputs": [],
   "source": [
    "import yfinance as yf\n",
    "import pandas as pd\n",
    "from matplotlib import pyplot as plt\n",
    "import seaborn as sb\n",
    "from scipy.stats import skew\n",
    "import numpy as np\n",
    "from sklearn.preprocessing import MinMaxScaler\n",
    "import matplotlib.dates as mdates\n",
    "from tensorflow.keras.models import Sequential\n",
    "from tensorflow.keras.layers import LSTM, Dense, Dropout\n",
    "from sklearn.metrics import mean_squared_error, mean_absolute_error,r2_score\n",
    "import math"
   ]
  },
  {
   "cell_type": "markdown",
   "id": "975061dd",
   "metadata": {},
   "source": [
    "##### Fetch Live stock data "
   ]
  },
  {
   "cell_type": "code",
   "execution_count": null,
   "id": "5a3ba2d5",
   "metadata": {},
   "outputs": [],
   "source": [
    "stock = yf.Ticker(\"CESC.NS\")\n",
    "data = stock.history(period=\"3y\", interval=\"1d\")\n",
    "\n",
    "data.index = data.index.date  # converts to plain date (datetime.date object)\n",
    "# Select only numerical columns and round to 2 decimal places\n",
    "data = data.round(2)\n",
    "# ṛemoving not needed columns from the data\n",
    "data = data[[\"Close\", \"Open\" , \"Low\" , \"High\" , \"Volume\"]]"
   ]
  },
  {
   "cell_type": "code",
   "execution_count": null,
   "id": "bad1024d",
   "metadata": {},
   "outputs": [],
   "source": [
    "print(\"Stock Price of last 5 days :::\")\n",
    "data.tail()"
   ]
  },
  {
   "cell_type": "markdown",
   "id": "3d8a5281",
   "metadata": {},
   "source": [
    "##### Neccesary Data pre-processing steps "
   ]
  },
  {
   "cell_type": "code",
   "execution_count": null,
   "id": "40b117ff",
   "metadata": {},
   "outputs": [],
   "source": [
    "# check for missing values\n",
    "print(\"Missing values in data >>>\\n\")\n",
    "data.isna().sum()"
   ]
  },
  {
   "cell_type": "code",
   "execution_count": null,
   "id": "91817d3e",
   "metadata": {},
   "outputs": [],
   "source": [
    "# Summary statistics of numerical columns\n",
    "print(\"summary statistics  \\n\",data.describe())"
   ]
  },
  {
   "cell_type": "markdown",
   "id": "1072ad7d",
   "metadata": {},
   "source": [
    "##### Stock Price Visualization "
   ]
  },
  {
   "cell_type": "code",
   "execution_count": null,
   "id": "6f9aec76",
   "metadata": {},
   "outputs": [],
   "source": [
    "# stock price over the time using line chart\n",
    "plt.figure(figsize=(12, 6))\n",
    "sb.lineplot(data=data, x=data.index, y=\"Close\", label=\"Close Price CESC Stock\" , color=\"green\")\n",
    "plt.title(\"CESC Stock Price Over Time (Last 3 Years)\")\n",
    "plt.xlabel(\"Date\")\n",
    "plt.ylabel(\"Price (INR)\")\n",
    "plt.xticks(rotation=45)\n",
    "plt.legend()\n",
    "plt.tight_layout()\n",
    "plt.show()"
   ]
  },
  {
   "cell_type": "markdown",
   "id": "9dfe3f51",
   "metadata": {},
   "source": [
    "##### Scatter plot shows the association between two variable (how much they're depended)"
   ]
  },
  {
   "cell_type": "code",
   "execution_count": null,
   "id": "5564a0a1",
   "metadata": {},
   "outputs": [],
   "source": [
    "# Scatter plot between Open & Close prices\n",
    "plt.figure(figsize=(8, 4))\n",
    "sb.scatterplot(x=data['Open'], y=data['Close'], hue=data['Open'], palette='coolwarm')\n",
    "plt.title(\"Scatter Plot: Open vs Close Prices\")\n",
    "plt.show()"
   ]
  },
  {
   "cell_type": "markdown",
   "id": "202ad8af",
   "metadata": {},
   "source": [
    "##### Heatmap shows the correlations of all the numerical cols and shows how all are connected"
   ]
  },
  {
   "cell_type": "code",
   "execution_count": null,
   "id": "45eff827",
   "metadata": {},
   "outputs": [],
   "source": [
    "numeric_cols = data.select_dtypes(include=['float64', 'int64'])\n",
    "# heatmap for visualizing relationships between numerical columns\n",
    "plt.figure(figsize=(6, 4))\n",
    "sb.heatmap(numeric_cols.corr(), annot=True, cmap='coolwarm', fmt='.2f')\n",
    "plt.title(\"Heatmap of Correlations\")\n",
    "plt.show()"
   ]
  },
  {
   "cell_type": "markdown",
   "id": "87b0d7c5",
   "metadata": {},
   "source": [
    "###### Rule of thumb:-\n",
    "- 0.5 < skew < 0.5 → fairly symmetrical\n",
    "- Otherwise → consider transformation"
   ]
  },
  {
   "cell_type": "code",
   "execution_count": null,
   "id": "da799621",
   "metadata": {},
   "outputs": [],
   "source": [
    "print(\"Skewness (Close):\", skew(data['Close']))\n",
    "print(\"Skewness (Open):\", skew(data['Open']))\n",
    "print(\"Skewness (High):\", skew(data['High']))\n",
    "print(\"Skewness (Low):\", skew(data['Low']))\n",
    "print(\"Skewness (Volume):\", skew(data['Volume']))"
   ]
  },
  {
   "cell_type": "markdown",
   "id": "55d848de",
   "metadata": {},
   "source": [
    "#### Skewness Analysis \n",
    "- Close = 0.124 -> \tAlmost symmetrical — no serious skew.\n",
    "- Open = 0.127 -> \tAlmost symmetrical — no serious skew.\n",
    "- High = 0.118 -> \tAlmost symmetrical — no serious skew.\n",
    "- Low = 0.137 -> \tAlmost symmetrical — no serious skew.\n",
    "- Volume = 4.647 -> Highly positively skewed — heavy right tail (some days have extremely high volume compared to others)."
   ]
  },
  {
   "cell_type": "code",
   "execution_count": null,
   "id": "4a65cd8c",
   "metadata": {},
   "outputs": [],
   "source": [
    "# Volume:\n",
    "# Extremely skewed — a few trading days have unusually high volumes.\n",
    "# This can cause LSTM to overemphasize rare spikes.\n",
    "# Solution : Log transformation to reduce skewness.\n",
    "\n",
    "## As of now, we are not using volume in our model, but if we do, we can apply log transformation to reduce skewness in future. "
   ]
  },
  {
   "cell_type": "code",
   "execution_count": null,
   "id": "87c7764c",
   "metadata": {},
   "outputs": [],
   "source": [
    "## Adding a trend column to the data\n",
    "# This column indicates whether the price is expected to go up (1) or down (0\n",
    "data['Trend'] = (data['Close'].shift(-1) > data['Close']).astype(int)"
   ]
  },
  {
   "cell_type": "code",
   "execution_count": null,
   "id": "6b7ebe15",
   "metadata": {},
   "outputs": [],
   "source": [
    "print(\"Overview of dataset after adding some features \\n\\n\")\n",
    "data = data.round(2)  # rounding off the values for better readability\n",
    "data.tail()"
   ]
  },
  {
   "cell_type": "markdown",
   "id": "d8779cbd",
   "metadata": {},
   "source": [
    "### LSTM MODEL"
   ]
  },
  {
   "cell_type": "markdown",
   "id": "23f88f5a",
   "metadata": {},
   "source": [
    "##### 1️⃣ Preparing Your Data for LSTM\n",
    "###### LSTMs expect 3D input: [samples, timesteps, features]\n",
    "where\n",
    "```\n",
    "samples = number of training examples\n",
    "timesteps = how many past days to look back\n",
    "features = number of columns (Open, High, Low, Close, Volume)\n",
    "```"
   ]
  },
  {
   "cell_type": "markdown",
   "id": "7965907a",
   "metadata": {},
   "source": [
    "Step 1: Apply transformations & scaling"
   ]
  },
  {
   "cell_type": "code",
   "execution_count": null,
   "id": "aa6f92f7",
   "metadata": {},
   "outputs": [],
   "source": [
    "# Scale all features\n",
    "scaler = MinMaxScaler()\n",
    "scaled_data = scaler.fit_transform(data)"
   ]
  },
  {
   "cell_type": "markdown",
   "id": "cb98a968",
   "metadata": {},
   "source": [
    "Step 2: Create sequences(timesteps)"
   ]
  },
  {
   "cell_type": "code",
   "execution_count": null,
   "id": "4b2d0bdb",
   "metadata": {},
   "outputs": [],
   "source": [
    "def create_sequences(dataset, time_steps=90):\n",
    "    X, y = [], []\n",
    "    for i in range(len(dataset) - time_steps):\n",
    "        X.append(dataset[i:(i + time_steps)])  # past 60 days\n",
    "        y.append(dataset[i + time_steps, 0])   # 'Close' is 1st column here\n",
    "    # Convert to numpy arrays for better performance with LSTM\n",
    "    return np.array(X), np.array(y)\n",
    "\n",
    "time_steps = 60\n",
    "X, y = create_sequences(scaled_data, time_steps)\n"
   ]
  },
  {
   "cell_type": "markdown",
   "id": "ea056c38",
   "metadata": {},
   "source": [
    "Step 3: Train-test split (no shuffle)"
   ]
  },
  {
   "cell_type": "code",
   "execution_count": null,
   "id": "52faec9a",
   "metadata": {},
   "outputs": [],
   "source": [
    "train_size = int(len(X) * 0.8)\n",
    "X_train, X_test = X[:train_size], X[train_size:]\n",
    "y_train, y_test = y[:train_size], y[train_size:]\n",
    "print(f\"Training data shape: {X_train.shape}, {y_train.shape}\")\n",
    "print(f\"Testing data shape: {X_test.shape}, {y_test.shape}\")"
   ]
  },
  {
   "cell_type": "markdown",
   "id": "219abbf4",
   "metadata": {},
   "source": [
    "Step 4: LSTM model (Keras - RNN variant) "
   ]
  },
  {
   "cell_type": "code",
   "execution_count": null,
   "id": "7e439be7",
   "metadata": {},
   "outputs": [],
   "source": [
    "model = Sequential()\n",
    "model.add(\n",
    "    LSTM(50, return_sequences=True, input_shape=(X_train.shape[1], X_train.shape[2]))\n",
    ")\n",
    "model.add(Dropout(0.2))\n",
    "model.add(LSTM(50))\n",
    "model.add(Dropout(0.2))\n",
    "model.add(Dense(1))  # Predict close price\n",
    "\n",
    "model.compile(optimizer=\"adam\", loss=\"mean_squared_error\")\n",
    "\n",
    "history = model.fit(\n",
    "    X_train,\n",
    "    y_train,\n",
    "    epochs=50,\n",
    "    batch_size=32,\n",
    "    validation_data=(X_test, y_test),\n",
    "    verbose=1,\n",
    ")"
   ]
  },
  {
   "cell_type": "markdown",
   "id": "59d60fe5",
   "metadata": {},
   "source": [
    "Model evaluation metrics"
   ]
  },
  {
   "cell_type": "code",
   "execution_count": null,
   "id": "ccd650c5",
   "metadata": {},
   "outputs": [],
   "source": [
    "# Predictions\n",
    "y_pred = model.predict(X_test)\n",
    "# Inverse transform (to get actual prices back)\n",
    "# y_test and y_pred are scaled — need to bring them back\n",
    "\n",
    "# Create empty array for inverse scaling\n",
    "y_test_inv = np.zeros((len(y_test), scaled_data.shape[1]))\n",
    "y_pred_inv = np.zeros((len(y_pred), scaled_data.shape[1]))\n",
    "\n",
    "# Put the close price predictions back in the correct column\n",
    "y_test_inv[:, 3] = y_test\n",
    "y_pred_inv[:, 3] = y_pred[:, 0]\n",
    "\n",
    "# Inverse transform\n",
    "y_test_inv = scaler.inverse_transform(y_test_inv)[:, 3]\n",
    "y_pred_inv = scaler.inverse_transform(y_pred_inv)[:, 3]\n"
   ]
  },
  {
   "cell_type": "code",
   "execution_count": null,
   "id": "9f939582",
   "metadata": {},
   "outputs": [],
   "source": [
    "rmse = math.sqrt(mean_squared_error(y_test_inv, y_pred_inv))\n",
    "mae = mean_absolute_error(y_test_inv, y_pred_inv)\n",
    "r2 = r2_score(y_test_inv, y_pred_inv)\n",
    "print(\"RMSE:\", rmse)\n",
    "print(\"MAE:\", mae)\n",
    "print(\"R2 score:\", r2)"
   ]
  },
  {
   "cell_type": "code",
   "execution_count": null,
   "id": "e23795fc",
   "metadata": {},
   "outputs": [],
   "source": [
    "plt.figure(figsize=(12,6))\n",
    "plt.plot(y_test_inv, label='Actual Price')\n",
    "plt.plot(y_pred_inv, label='Predicted Price')\n",
    "plt.title(\"Actual vs Predicted Stock Price (CESC)\")\n",
    "plt.xlabel(\"Time\")\n",
    "plt.ylabel(\"Price (INR)\")\n",
    "plt.legend()\n",
    "plt.show()"
   ]
  },
  {
   "cell_type": "code",
   "execution_count": null,
   "id": "a415f2bd",
   "metadata": {},
   "outputs": [],
   "source": []
  }
 ],
 "metadata": {
  "kernelspec": {
   "display_name": "base",
   "language": "python",
   "name": "python3"
  },
  "language_info": {
   "codemirror_mode": {
    "name": "ipython",
    "version": 3
   },
   "file_extension": ".py",
   "mimetype": "text/x-python",
   "name": "python",
   "nbconvert_exporter": "python",
   "pygments_lexer": "ipython3",
   "version": "3.12.7"
  }
 },
 "nbformat": 4,
 "nbformat_minor": 5
}
