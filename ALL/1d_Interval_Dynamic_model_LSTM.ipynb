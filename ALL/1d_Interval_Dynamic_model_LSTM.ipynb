{
 "cells": [
  {
   "cell_type": "code",
   "execution_count": 1,
   "id": "33542369",
   "metadata": {},
   "outputs": [],
   "source": [
    "import pandas as pd\n",
    "from matplotlib import pyplot as plt\n",
    "import seaborn as sb\n",
    "from scipy.stats import skew\n",
    "import numpy as np\n",
    "from sklearn.preprocessing import MinMaxScaler\n",
    "from datetime import date, timedelta\n",
    "from tensorflow.keras.models import Sequential\n",
    "from tensorflow.keras.layers import LSTM, Dense, Dropout\n",
    "from sklearn.metrics import mean_squared_error, mean_absolute_error,r2_score\n",
    "import math\n",
    "from tensorflow.keras.layers import Bidirectional"
   ]
  },
  {
   "cell_type": "code",
   "execution_count": 2,
   "id": "3cd66766",
   "metadata": {},
   "outputs": [],
   "source": [
    "symbol = input(\"enter symbol here : \")"
   ]
  },
  {
   "cell_type": "markdown",
   "id": "975061dd",
   "metadata": {},
   "source": [
    "##### Fetch Live stock data "
   ]
  },
  {
   "cell_type": "code",
   "execution_count": 3,
   "id": "5a3ba2d5",
   "metadata": {},
   "outputs": [
    {
     "name": "stdout",
     "output_type": "stream",
     "text": [
      "Fetching data for '^NSEI' using yfinance...\n",
      "\n",
      "Here are the last 5 data points:\n",
      "        Open      High       Low     Close\n",
      "60  25142.00  25153.65  25054.90  25083.75\n",
      "61  25064.15  25084.85  24859.15  24870.10\n",
      "62  24949.15  25021.55  24894.35  24967.75\n",
      "63  24899.50  24919.65  24689.60  24712.05\n",
      "64  24695.80  24702.65  24481.60  24500.90\n"
     ]
    }
   ],
   "source": [
    "import yfinance as yf\n",
    "\n",
    "print(f\"Fetching data for '{symbol}' using yfinance...\")\n",
    "\n",
    "try:\n",
    "    # 2. Create a Ticker object\n",
    "    sym_data = yf.Ticker(symbol)\n",
    "\n",
    "    # 3. Fetch historical market data (last 60 days with 10-minute intervals)\n",
    "    data = sym_data.history(period=\"3mo\", interval=\"1d\")\n",
    "\n",
    "    data = data.reset_index()  # Reset index to make 'Datetime' a column\n",
    "    # The column name after reset_index depends on the yfinance version,\n",
    "    # it could be 'Datetime' or 'index'. We'll handle 'Datetime'.\n",
    "    # if \"Datetime\" in data.columns:\n",
    "    #     # Format the 'Datetime' column to 'YYYY-MM-DD HH:MM'\n",
    "    #     data[\"Datetime\"] = data[\"Datetime\"].dt.strftime(\"%Y-%m-%d %H:%M\")\n",
    "    # elif \"index\" in data.columns:\n",
    "    #     data = data.rename(columns={\"index\": \"Datetime\"})\n",
    "    #     data[\"Datetime\"] = data[\"Datetime\"].dt.strftime(\"%Y-%m-%d %H:%M\")\n",
    "\n",
    "    # We now have the 'Datetime' column to include.\n",
    "    data = data[[ \"Open\", \"High\", \"Low\", \"Close\"]]\n",
    "\n",
    "    # 7. Display the final data\n",
    "    print(\"\\nHere are the last 5 data points:\")\n",
    "    print(data.tail().round(2))\n",
    "\n",
    "except Exception as e:\n",
    "    print(f\"\\nAn error occurred: {e}\")"
   ]
  },
  {
   "cell_type": "markdown",
   "id": "3d8a5281",
   "metadata": {},
   "source": [
    "##### Neccesary Data pre-processing steps "
   ]
  },
  {
   "cell_type": "code",
   "execution_count": null,
   "id": "91817d3e",
   "metadata": {},
   "outputs": [],
   "source": [
    "# Summary statistics of numerical columns\n",
    "print(\"summary statistics  \\n\",data.describe().T)"
   ]
  },
  {
   "cell_type": "markdown",
   "id": "1072ad7d",
   "metadata": {},
   "source": [
    "##### Stock Price Visualization "
   ]
  },
  {
   "cell_type": "code",
   "execution_count": null,
   "id": "6f9aec76",
   "metadata": {},
   "outputs": [],
   "source": [
    "import matplotlib.pyplot as plt\n",
    "import matplotlib.dates as mdates\n",
    "\n",
    "plt.figure(figsize=(14, 6))\n",
    "plt.plot(data[\"Datetime\"], data[\"Close\"], label=\"Close Price\", linewidth=1.2)\n",
    "\n",
    "# Convert Datetime column back to datetime objects (if it's string-formatted earlier)\n",
    "data[\"Datetime\"] = pd.to_datetime(data[\"Datetime\"])\n",
    "\n",
    "# Format x-axis to show only HH:MM\n",
    "plt.gca().xaxis.set_major_locator(mdates.AutoDateLocator())\n",
    "plt.gca().xaxis.set_major_formatter(mdates.DateFormatter(\"%H:%M\"))\n",
    "\n",
    "plt.xticks(rotation=45, ha=\"right\")\n",
    "plt.xlabel(\"Time (HH:MM)\")\n",
    "plt.ylabel(\"Close Price (INR)\")\n",
    "plt.title(f\"{symbol} - Close Price Over Time\")\n",
    "plt.legend()\n",
    "plt.tight_layout()\n",
    "plt.show()"
   ]
  },
  {
   "cell_type": "markdown",
   "id": "9dfe3f51",
   "metadata": {},
   "source": [
    "##### Scatter plot shows the association between two variable (how much they're depended)"
   ]
  },
  {
   "cell_type": "code",
   "execution_count": null,
   "id": "5564a0a1",
   "metadata": {},
   "outputs": [],
   "source": [
    "# Scatter plot between Open & Close prices\n",
    "plt.figure(figsize=(8, 4))\n",
    "sb.scatterplot(x=data['Open'], y=data['Close'], hue=data['Open'], palette='coolwarm')\n",
    "plt.title(\"Scatter Plot: Open vs Close Prices\")\n",
    "plt.show()"
   ]
  },
  {
   "cell_type": "markdown",
   "id": "202ad8af",
   "metadata": {},
   "source": [
    "##### Heatmap shows the correlations of all the numerical cols and shows how all are connected"
   ]
  },
  {
   "cell_type": "code",
   "execution_count": null,
   "id": "45eff827",
   "metadata": {},
   "outputs": [],
   "source": [
    "numeric_cols = data.select_dtypes(include=['float64', 'int64'])\n",
    "# heatmap for visualizing relationships between numerical columns\n",
    "plt.figure(figsize=(6, 4))\n",
    "sb.heatmap(numeric_cols.corr(), annot=True, cmap='coolwarm', fmt='.2f')\n",
    "plt.title(\"Heatmap of Correlations\")\n",
    "plt.show()"
   ]
  },
  {
   "cell_type": "markdown",
   "id": "87b0d7c5",
   "metadata": {},
   "source": [
    "###### Rule of thumb:-\n",
    "- 0.5 < skew < 0.5 → fairly symmetrical\n",
    "- Otherwise → consider transformation"
   ]
  },
  {
   "cell_type": "code",
   "execution_count": null,
   "id": "da799621",
   "metadata": {},
   "outputs": [],
   "source": [
    "print(\"Skewness (Close):\", skew(data['Close']))\n",
    "print(\"Skewness (Open):\", skew(data['Open']))\n",
    "print(\"Skewness (High):\", skew(data['High']))\n",
    "print(\"Skewness (Low):\", skew(data['Low']))"
   ]
  },
  {
   "cell_type": "markdown",
   "id": "55d848de",
   "metadata": {},
   "source": [
    "#### Skewness Analysis \n",
    "- Market data or live time series data has very uneven skewness which is more common and expected due high volatility and other factors on markets"
   ]
  },
  {
   "cell_type": "code",
   "execution_count": null,
   "id": "4a65cd8c",
   "metadata": {},
   "outputs": [],
   "source": [
    "# Volume:\n",
    "# Extremely skewed — a few trading days have unusually high volumes.\n",
    "# This can cause LSTM to overemphasize rare spikes.\n",
    "# Solution : Log transformation to reduce skewness.\n",
    "\n",
    "## As of now, we are not using volume in our model, but if we do, we can apply log transformation to reduce skewness in future. "
   ]
  },
  {
   "cell_type": "code",
   "execution_count": null,
   "id": "87c7764c",
   "metadata": {},
   "outputs": [],
   "source": [
    "## Adding a trend column to the data\n",
    "# This column indicates whether the price is expected to go up (1) or down (0\n",
    "data['Trend'] = (data['Close'].shift(-1) > data['Close']).astype(int)"
   ]
  },
  {
   "cell_type": "code",
   "execution_count": null,
   "id": "6b7ebe15",
   "metadata": {},
   "outputs": [],
   "source": [
    "print(\"Overview of dataset after adding some features \\n\\n\")\n",
    "data = data.round(2)  # rounding off the values for better readability\n",
    "print(data.tail())"
   ]
  },
  {
   "cell_type": "markdown",
   "id": "d8779cbd",
   "metadata": {},
   "source": [
    "### LSTM MODEL"
   ]
  },
  {
   "cell_type": "markdown",
   "id": "23f88f5a",
   "metadata": {},
   "source": [
    "##### 1️⃣ Preparing Your Data for LSTM\n",
    "###### LSTMs expect 3D input: [samples, timesteps, features]\n",
    "where\n",
    "```\n",
    "samples = number of training examples\n",
    "timesteps = how many past days to look back\n",
    "features = number of columns (Open, High, Low, Close, Volume)\n",
    "```"
   ]
  },
  {
   "cell_type": "markdown",
   "id": "7965907a",
   "metadata": {},
   "source": [
    "Step 1: Apply transformations & scaling"
   ]
  },
  {
   "cell_type": "code",
   "execution_count": null,
   "id": "aa6f92f7",
   "metadata": {},
   "outputs": [],
   "source": [
    "# Scale all features\n",
    "scaler = MinMaxScaler()\n",
    "scaled_data = scaler.fit_transform(data[[\"Open\", \"High\", \"Low\", \"Close\"]])"
   ]
  },
  {
   "cell_type": "markdown",
   "id": "cb98a968",
   "metadata": {},
   "source": [
    "Step 2: Create sequences(timesteps)"
   ]
  },
  {
   "cell_type": "code",
   "execution_count": null,
   "id": "4b2d0bdb",
   "metadata": {},
   "outputs": [],
   "source": [
    "def create_sequences(dataset, time_steps=90):\n",
    "    X, y = [], []\n",
    "    for i in range(len(dataset) - time_steps):\n",
    "        X.append(dataset[i:(i + time_steps)])  # past 60 days\n",
    "        y.append(dataset[i + time_steps, 0])   # 'Close' is 1st column here\n",
    "    # Convert to numpy arrays for better performance with LSTM\n",
    "    return np.array(X), np.array(y)\n",
    "\n",
    "time_steps = 60\n",
    "X, y = create_sequences(scaled_data, time_steps)\n"
   ]
  },
  {
   "cell_type": "markdown",
   "id": "ea056c38",
   "metadata": {},
   "source": [
    "Step 3: Train-test split (no shuffle)"
   ]
  },
  {
   "cell_type": "code",
   "execution_count": null,
   "id": "52faec9a",
   "metadata": {},
   "outputs": [],
   "source": [
    "train_size = int(len(X) * 0.8)\n",
    "X_train, X_test = X[:train_size], X[train_size:]\n",
    "y_train, y_test = y[:train_size], y[train_size:]\n",
    "print(f\"Training data shape: {X_train.shape}, {y_train.shape}\")\n",
    "print(f\"Testing data shape: {X_test.shape}, {y_test.shape}\")"
   ]
  },
  {
   "cell_type": "markdown",
   "id": "219abbf4",
   "metadata": {},
   "source": [
    "Step 4: LSTM model (Keras - RNN variant) "
   ]
  },
  {
   "cell_type": "code",
   "execution_count": null,
   "id": "7e439be7",
   "metadata": {},
   "outputs": [],
   "source": [
    "model = Sequential()\n",
    "model.add(\n",
    "    LSTM(50, return_sequences=True, input_shape=(X_train.shape[1], X_train.shape[2]))\n",
    ")\n",
    "model.add(Dropout(0.2))\n",
    "model.add(LSTM(50))\n",
    "model.add(Dropout(0.2))\n",
    "model.add(Dense(1))  # Predict close price\n",
    "\n",
    "model.compile(optimizer=\"adam\", loss=\"mean_squared_error\")\n",
    "\n",
    "history = model.fit(\n",
    "    X_train,\n",
    "    y_train,\n",
    "    epochs=50,\n",
    "    batch_size=32,\n",
    "    validation_data=(X_test, y_test),\n",
    "    verbose=1,\n",
    ")"
   ]
  },
  {
   "cell_type": "markdown",
   "id": "59d60fe5",
   "metadata": {},
   "source": [
    "Model evaluation metrics"
   ]
  },
  {
   "cell_type": "code",
   "execution_count": null,
   "id": "ccd650c5",
   "metadata": {},
   "outputs": [],
   "source": [
    "# Predictions\n",
    "y_pred = model.predict(X_test)\n",
    "# Inverse transform (to get actual prices back)\n",
    "# y_test and y_pred are scaled — need to bring them back\n",
    "\n",
    "# Create empty array for inverse scaling\n",
    "y_test_inv = np.zeros((len(y_test), scaled_data.shape[1]))\n",
    "y_pred_inv = np.zeros((len(y_pred), scaled_data.shape[1]))\n",
    "\n",
    "# Put the close price predictions back in the correct column\n",
    "y_test_inv[:, 3] = y_test\n",
    "y_pred_inv[:, 3] = y_pred[:, 0]\n",
    "\n",
    "# Inverse transform\n",
    "y_test_inv = scaler.inverse_transform(y_test_inv)[:, 3]\n",
    "y_pred_inv = scaler.inverse_transform(y_pred_inv)[:, 3]\n"
   ]
  },
  {
   "cell_type": "code",
   "execution_count": null,
   "id": "9f939582",
   "metadata": {},
   "outputs": [],
   "source": [
    "rmse = math.sqrt(mean_squared_error(y_test_inv, y_pred_inv))\n",
    "mae = mean_absolute_error(y_test_inv, y_pred_inv)\n",
    "r2 = r2_score(y_test_inv, y_pred_inv)\n",
    "print(\"RMSE:\", rmse)\n",
    "print(\"MAE:\", mae)\n",
    "print(\"R2 score:\", r2)"
   ]
  },
  {
   "cell_type": "code",
   "execution_count": null,
   "id": "e23795fc",
   "metadata": {},
   "outputs": [],
   "source": [
    "plt.figure(figsize=(12, 6))\n",
    "plt.plot(y_test_inv, label=\"Actual Price\")\n",
    "plt.plot(y_pred_inv, label=\"Predicted Price\")\n",
    "plt.title(f\"Actual vs Predicted Stock Price {symbol}\")\n",
    "plt.xlabel(\"Time\")\n",
    "plt.ylabel(\"Price (INR)\")\n",
    "plt.legend()\n",
    "plt.show()"
   ]
  },
  {
   "cell_type": "code",
   "execution_count": null,
   "id": "ae4f6510",
   "metadata": {},
   "outputs": [],
   "source": [
    "# --- 1. User Input for Forecast Period ---\n",
    "try:\n",
    "    forecast_minutes = int(input(\"Enter the number of minutes to forecast (e.g., 15, 30, 60): \"))\n",
    "    if forecast_minutes <= 0:\n",
    "        raise ValueError\n",
    "except ValueError:\n",
    "    print(\"Invalid input. Please enter a positive number. Defaulting to 30 minutes.\")\n",
    "    forecast_minutes = 30"
   ]
  },
  {
   "cell_type": "code",
   "execution_count": null,
   "id": "a415f2bd",
   "metadata": {},
   "outputs": [],
   "source": [
    "# Since data interval is 5 minutes, calculate the number of steps to predict\n",
    "future_steps = int(forecast_minutes / 5)\n",
    "print(\n",
    "    f\"Forecasting for {forecast_minutes} minutes, which is {future_steps} 5-minute steps.\"\n",
    ")\n",
    "\n",
    "# Get the index of the 'Close' column. This makes the code more robust.\n",
    "close_idx = data.columns.get_loc(\"Close\") - 1 # Subtract 1 because we dropped the 'Date' column for scaling\n",
    "\n",
    "# --- 1. Determine the number of features dynamically ---\n",
    "n_features = scaled_data.shape[1]\n",
    "print(f\"Data has {n_features} features.\")\n",
    "\n",
    "# --- 2. Corrected Forecasting Logic ---\n",
    "lookback = time_steps  # time_steps = 60 from your training cell\n",
    "\n",
    "# Start with the last 'lookback' steps from your scaled dataset\n",
    "last_sequence = scaled_data[-lookback:].copy()\n",
    "forecast_predictions = []\n",
    "\n",
    "for _ in range(future_steps):\n",
    "    # Reshape the sequence to be a single sample\n",
    "    # Use the dynamic n_features instead of a hardcoded 5\n",
    "    X_input = np.reshape(last_sequence, (1, lookback, n_features))\n",
    "\n",
    "    # Predict the next 5-minute interval's closing price (scaled)\n",
    "    pred_scaled = model.predict(X_input)[0, 0]\n",
    "\n",
    "    # Store the scaled prediction\n",
    "    forecast_predictions.append(pred_scaled)\n",
    "\n",
    "    # Create the next input row for the sequence\n",
    "    # Use the predicted close price and carry over the other features from the last step\n",
    "    next_input_row = last_sequence[-1].copy()  # Get the last row of 5 features\n",
    "    next_input_row[3] = pred_scaled  # Update the 'Close' price feature (index 3)\n",
    "\n",
    "    # Append the new row and remove the oldest to maintain the sequence length\n",
    "    last_sequence = np.append(last_sequence[1:], [next_input_row], axis=0)\n",
    "\n",
    "# --- 3. Inverse Transform and Display Forecast ---\n",
    "# Create a dummy array with the same number of features to inverse transform the predictions\n",
    "forecast_transformed = np.zeros((len(forecast_predictions), 5))\n",
    "# Place the scaled predictions into the 'Close' price column (index 3)\n",
    "forecast_transformed[:, 3] = forecast_predictions\n",
    "\n",
    "# Inverse transform to get the actual price values\n",
    "forecast_prices = scaler.inverse_transform(forecast_transformed)[:, close_idx]\n",
    "\n",
    "# Generate future timestamps for the forecast\n",
    "last_timestamp = data[\"Datetime\"].iloc[-1]\n",
    "future_timestamps = pd.to_datetime(\n",
    "    [last_timestamp + pd.DateOffset(minutes=5 * (i + 1)) for i in range(future_steps)]\n",
    ")\n",
    "\n",
    "# Create and display a forecast DataFrame\n",
    "forecast_df = pd.DataFrame(\n",
    "    {\"Timestamp\": future_timestamps, \"Predicted Close\": forecast_prices}\n",
    ")\n",
    "print(f\"\\nPredicted Closing Prices for the Next {forecast_minutes} Minutes:\")\n",
    "print(forecast_df)\n",
    "\n",
    "\n",
    "# --- 4. Enhanced Visualization ---\n",
    "# plt.figure(figsize=(15, 7))\n",
    "\n",
    "# Plot recent historical data using the actual datetime index\n",
    "# plt.plot(\n",
    "#     data[\"Datetime\"].iloc[-200:],\n",
    "#     data[\"Close\"].iloc[-200:],\n",
    "#     label=\"Historical Close Price\",\n",
    "#     color=\"blue\",\n",
    "# )\n",
    "\n",
    "# Plot the forecasted data with future timestamps\n",
    "# plt.plot(\n",
    "#     forecast_df[\"Timestamp\"],\n",
    "#     forecast_df[\"Predicted Close\"],\n",
    "#     label=\"Forecasted Close Price\",\n",
    "#     color=\"red\",\n",
    "#     marker=\"o\",\n",
    "#     linestyle=\"--\",\n",
    "# )\n",
    "\n",
    "# plt.title(f\"Actual vs. Forecasted Stock Price for {symbol}\")\n",
    "# plt.xlabel(\"Date and Time\")\n",
    "# plt.ylabel(\"Price (INR)\")\n",
    "# plt.legend()\n",
    "# plt.grid(True)\n",
    "\n",
    "# Format the x-axis to show dates and times nicely\n",
    "# plt.gca().xaxis.set_major_formatter(mdates.DateFormatter(\"%Y-%m-%d %H:%M\"))\n",
    "# plt.gca().xaxis.set_major_locator(mdates.AutoDateLocator())\n",
    "# plt.gcf().autofmt_xdate()  # Rotates the dates for better readability\n",
    "\n",
    "# plt.show()"
   ]
  },
  {
   "cell_type": "code",
   "execution_count": null,
   "id": "1dcda5ca",
   "metadata": {},
   "outputs": [],
   "source": []
  }
 ],
 "metadata": {
  "kernelspec": {
   "display_name": "base",
   "language": "python",
   "name": "python3"
  },
  "language_info": {
   "codemirror_mode": {
    "name": "ipython",
    "version": 3
   },
   "file_extension": ".py",
   "mimetype": "text/x-python",
   "name": "python",
   "nbconvert_exporter": "python",
   "pygments_lexer": "ipython3",
   "version": "3.12.7"
  }
 },
 "nbformat": 4,
 "nbformat_minor": 5
}
